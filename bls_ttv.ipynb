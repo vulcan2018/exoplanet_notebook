{
 "cells": [
  {
   "cell_type": "code",
   "execution_count": 1,
   "metadata": {},
   "outputs": [],
   "source": [
    "import matplotlib.pyplot as plt\n",
    "import numpy as np\n",
    "import math"
   ]
  },
  {
   "cell_type": "code",
   "execution_count": 2,
   "metadata": {},
   "outputs": [],
   "source": [
    "%matplotlib inline"
   ]
  },
  {
   "cell_type": "markdown",
   "metadata": {},
   "source": [
    "### BLS algorithm (rewritten from author's code)\n",
    "\n",
    "*Original code*:\n",
    "\n",
    "http://www.konkoly.hu/staff/kovacs/bls_code.html\n",
    "\n",
    "eebls.f"
   ]
  },
  {
   "cell_type": "code",
   "execution_count": 3,
   "metadata": {},
   "outputs": [],
   "source": [
    "def bls(t, x, qmi, qma, fmin, df, nf, nb):\n",
    "    \"\"\"Frist trial, BLS algorithm, only minor modification from author's code\"\"\"\n",
    "    \n",
    "    n = len(t); rn = len(x)\n",
    "    #! use try\n",
    "    if n != rn:\n",
    "        print (\"Different size of array, t and x\")\n",
    "        return 0\n",
    "\n",
    "    rn = float(rn) # float of n\n",
    "\n",
    "    minbin = 5\n",
    "    nbmax = 2000\n",
    "    if nb > nbmax:\n",
    "        print (\"Error: NB > NBMAX!\")\n",
    "        return 0\n",
    "\n",
    "    tot = t[-1] - t[0] # total time span\n",
    "\n",
    "    if fmin < 1.0/tot:\n",
    "        print (\"Error: fmin < 1/T\")\n",
    "        return 0\n",
    "\n",
    "    # parameters in binning (after folding)\n",
    "    kmi = int(qmi*nb) # nb is number of bin -> a single period\n",
    "    if kmi < 1: \n",
    "        kmi = 1\n",
    "    kma = int(qma*nb) + 1\n",
    "    kkmi = rn*qmi # to check the bin size\n",
    "    if kkmi < minbin: \n",
    "        kkmi = minbin\n",
    "\n",
    "    # For the extension of arrays (edge effect: transit happen at the edge of data set)\n",
    "    nb1 = nb + 1\n",
    "    nbkma = nb + kma\n",
    "        \n",
    "    # Data centering\n",
    "    t1 = t[0]\n",
    "    u = t - t1\n",
    "    s = np.mean(x) # ! Modified\n",
    "    v = x - s\n",
    "\n",
    "    bpow = 0.0\n",
    "    p = np.zeros(nf)\n",
    "    # Start period search\n",
    "    for jf in range(nf):\n",
    "        f0 = fmin + df*jf # iteration in frequency not period\n",
    "        p0 = 1.0/f0\n",
    "\n",
    "        # Compute folded time series with p0 period\n",
    "        ibi = np.zeros(nbkma)\n",
    "        y = np.zeros(nbkma)\n",
    "        for i in range(n):\n",
    "            ph = u[i]*f0 # instead of t mod P, he use t*f then calculate the phase (less computation)\n",
    "            ph = ph - int(ph)\n",
    "            j = int(nb*ph) # data to a bin \n",
    "            ibi[j] = ibi[j] + 1 # number of data in a bin\n",
    "            y[j] = y[j] + v[i] # sum of light in a bin\n",
    "        \n",
    "        # Extend the arrays  ibi()  and  y() beyond nb by wrapping\n",
    "        for j in range(nb1, nbkma):\n",
    "            jnb = j - nb\n",
    "            ibi[j] = ibi[jnb]\n",
    "            y[j] = y[jnb]\n",
    "\n",
    "        # Compute BLS statictics for this trial period\n",
    "        power = 0.0\n",
    "\n",
    "        for i in range(nb): # shift the test period\n",
    "            s = 0.0\n",
    "            k = 0\n",
    "            kk = 0\n",
    "            nb2 = i + kma\n",
    "            # change the size of test period (from kmi to kma)\n",
    "            for j in range(i, nb2): \n",
    "                k = k + 1\n",
    "                kk = kk + ibi[j]\n",
    "                s = s + y[j]\n",
    "                if k < kmi: continue # only calculate SR for test period > kmi\n",
    "                if kk < kkmi: continue # \n",
    "                rn1 = float(kk)\n",
    "                powo = s*s/(rn1*(rn - rn1))\n",
    "                if powo > power: # save maximum SR in a test period\n",
    "                    power = powo # SR value\n",
    "                    jn1 = i # \n",
    "                    jn2 = j\n",
    "                    rn3 = rn1\n",
    "                    s3 = s\n",
    "\n",
    "        power = math.sqrt(power)\n",
    "        p[jf] = power\n",
    "\n",
    "        if power > bpow:\n",
    "            bpow = power # Save the absolute maximum of SR\n",
    "            in1 = jn1\n",
    "            in2 = jn2\n",
    "            qtran = rn3/rn\n",
    "            # depth = -s3*rn/(rn3*(rn - rn3))\n",
    "            # ! Modified\n",
    "            high = -s3/(rn - rn3)\n",
    "            low = s3/rn3\n",
    "            depth = high - low\n",
    "            bper = p0\n",
    "    \n",
    "    # ! add\n",
    "    sde = (bpow - np.mean(p))/np.std(p) # signal detection efficiency\n",
    "\n",
    "    return bpow, in1, in2, qtran, depth, bper, sde, p, high, low"
   ]
  },
  {
   "cell_type": "markdown",
   "metadata": {},
   "source": [
    "### Generate simulated data with Jupiter-size planet transit\n",
    "\n",
    "Use *batman-package* to generate light-curve (http://astro.uchicago.edu/~kreidberg/batman/)\n",
    "\n",
    "Jupiter-size planet revolve the Solar-size star with period 2 days"
   ]
  },
  {
   "cell_type": "code",
   "execution_count": 4,
   "metadata": {},
   "outputs": [
    {
     "ename": "ImportError",
     "evalue": "No module named batman",
     "output_type": "error",
     "traceback": [
      "\u001b[1;31m---------------------------------------------------------------------------\u001b[0m",
      "\u001b[1;31mImportError\u001b[0m                               Traceback (most recent call last)",
      "\u001b[1;32m<ipython-input-4-e11e37de1dc9>\u001b[0m in \u001b[0;36m<module>\u001b[1;34m()\u001b[0m\n\u001b[1;32m----> 1\u001b[1;33m \u001b[1;32mimport\u001b[0m \u001b[0mbatman\u001b[0m \u001b[1;31m#install batman-package (Bad-Ass Transit Model cAlculatioN)\u001b[0m\u001b[1;33m\u001b[0m\u001b[0m\n\u001b[0m\u001b[0;32m      2\u001b[0m \u001b[1;32mimport\u001b[0m \u001b[0mastropy\u001b[0m\u001b[1;33m.\u001b[0m\u001b[0munits\u001b[0m \u001b[1;32mas\u001b[0m \u001b[0mu\u001b[0m\u001b[1;33m\u001b[0m\u001b[0m\n\u001b[0;32m      3\u001b[0m \u001b[1;32mfrom\u001b[0m \u001b[0mastropy\u001b[0m\u001b[1;33m.\u001b[0m\u001b[0mconstants\u001b[0m \u001b[1;32mimport\u001b[0m \u001b[0mG\u001b[0m\u001b[1;33m,\u001b[0m \u001b[0mR_sun\u001b[0m\u001b[1;33m,\u001b[0m \u001b[0mM_sun\u001b[0m\u001b[1;33m,\u001b[0m \u001b[0mR_jup\u001b[0m\u001b[1;33m,\u001b[0m \u001b[0mM_jup\u001b[0m\u001b[1;33m\u001b[0m\u001b[0m\n",
      "\u001b[1;31mImportError\u001b[0m: No module named batman"
     ]
    }
   ],
   "source": [
    "import batman #install batman-package (Bad-Ass Transit Model cAlculatioN)\n",
    "import astropy.units as u\n",
    "from astropy.constants import G, R_sun, M_sun, R_jup, M_jup"
   ]
  },
  {
   "cell_type": "code",
   "execution_count": null,
   "metadata": {},
   "outputs": [],
   "source": [
    "params = batman.TransitParams() # object to store the transit parameters\n",
    "params.t0 = 1.0 # time of inferior conjunction \n",
    "params.per = 3.62 # orbital period (days)\n",
    "params.rp = R_jup/R_sun # planet radius (in units of stellar radii)\n",
    "\n",
    "# calculate semi-major axis from orbital period value\n",
    "a = (((params.per*u.day)**2 * G * (M_sun + M_jup) / (4*np.pi**2))**(1./3)).to(R_sun).value \n",
    "\n",
    "params.a = a # semi-major axis (in units of stellar radii)\n",
    "params.inc = 90.0  # orbital inclination (in degrees)\n",
    "params.ecc = 0. # eccentricity\n",
    "params.w = 90. # longitude of periastron (in degrees), 90 for circular\n",
    "params.u = [0.61] # limb darkening coefficients\n",
    "params.limb_dark = \"linear\" # limb darkening model\n",
    "\n",
    "t = np.linspace(0.0, 6.0, 1000) # times at which to calculate the light curve\n",
    "m = batman.TransitModel(params, t) # initializes the model\n",
    "f = m.light_curve(params)\n",
    "\n",
    "# add gaussian error \n",
    "rs = np.random.RandomState(seed=13)\n",
    "\n",
    "errors = 0.002*np.ones_like(f)\n",
    "f += errors*rs.randn(len(t))\n",
    "\n",
    "plt.plot(t, f, 'b.')\n",
    "plt.title(\"Period: {0} d\".format(params.per))\n",
    "\n",
    "# fil = open('test.txt', 'w')\n",
    "# for i in range(len(t)):\n",
    "#     fil.write(str(t[i])+ ' ' +str(f[i]) + '\\n')\n",
    "\n",
    "# t = []\n",
    "# f = []\n",
    "# with open('test.txt', 'r') as ifile:\n",
    "#     for line in ifile:\n",
    "#         iline = line.strip().split()\n",
    "#         t.append(float(iline[0]))\n",
    "#         f.append(float(iline[1]))\n",
    "\n",
    "# t = np.array(t)\n",
    "# f = np.array(f)\n",
    "# plt.plot(t, f, 'b.')\n",
    "# plt.title(\"Period: {0} d\".format(2))\n",
    "\n",
    "plt.xlabel(\"t\")\n",
    "plt.ylabel(\"Relative Intensity\")"
   ]
  },
  {
   "cell_type": "markdown",
   "metadata": {},
   "source": [
    "### Calculate using BLS algorithm"
   ]
  },
  {
   "cell_type": "code",
   "execution_count": null,
   "metadata": {},
   "outputs": [],
   "source": [
    "qmi = 0.01\n",
    "qma = 0.1\n",
    "fmin = 0.25 \n",
    "df = 0.001 \n",
    "nf = 1000\n",
    "nb = 200\n",
    "res = bls(t, f, qmi, qma, fmin, df, nf, nb)\n",
    "print (\"Best SR: \", res[0], \"\\nIngress: \", res[1], \"\\nEgress: \", res[2], \"\\nq: \", res[3], \\\n",
    "\"\\nDepth: \", res[4], \"\\nPeriod: \", res[5], \"\\nSDE: \", res[6])"
   ]
  },
  {
   "cell_type": "code",
   "execution_count": null,
   "metadata": {},
   "outputs": [],
   "source": [
    "freq = np.arange(0.25, 1.3, 0.001)\n",
    "plt.plot(freq, res[7], 'k.')\n",
    "plt.title(\"SDE = {0}\".format(res[6]))\n",
    "plt.xlabel(r\"Frequency (d$^{-1}$)\")\n",
    "plt.ylabel(r\"$SR$\")"
   ]
  },
  {
   "cell_type": "markdown",
   "metadata": {},
   "source": [
    "## Lets explore, BLS: steps\n",
    "#### Data centering\n",
    "Subtract it with the average value"
   ]
  },
  {
   "cell_type": "code",
   "execution_count": null,
   "metadata": {},
   "outputs": [],
   "source": [
    "t1 = t[0]\n",
    "u = t - t1\n",
    "s = np.mean(f)\n",
    "v = f - s\n",
    "\n",
    "plt.plot(u, v, 'b.')\n",
    "plt.title(\"Data centering\")\n",
    "plt.xlabel(r\"$t - t_0$\")\n",
    "plt.ylabel(r\"$x(t) - \\mu$\")"
   ]
  },
  {
   "cell_type": "markdown",
   "metadata": {},
   "source": [
    "#### Folded and binned\n",
    "If we fold the data with *correct period* and binned to 200 bins"
   ]
  },
  {
   "cell_type": "code",
   "execution_count": null,
   "metadata": {},
   "outputs": [],
   "source": [
    "f0 = 1.0/res[5] #  freq = 1/T\n",
    "nbin = nb # number of bin\n",
    "n = len(t)\n",
    "ibi = np.zeros(nbin)\n",
    "y = np.zeros(nbin)\n",
    "phase = np.linspace(0.0, 1.0, nbin)\n",
    "\n",
    "for i in range(n):\n",
    "    ph = u[i]*f0 \n",
    "    ph = ph - int(ph)\n",
    "    j = int(nbin*ph) # data to a bin \n",
    "    ibi[j] = ibi[j] + 1.0 # number of data in a bin\n",
    "    y[j] = y[j] + v[i] # sum of light in a bin\n",
    "\n",
    "\n",
    "plt.plot(phase, y/ibi, 'r.')\n",
    "plt.title(\"Period: {0} d  bin: {1}\".format(1/f0, nbin))\n",
    "plt.xlabel(r\"Phase ($\\phi$)\")\n",
    "plt.ylabel(r\"Mean value of $x(\\phi)$ in a bin\")"
   ]
  },
  {
   "cell_type": "markdown",
   "metadata": {},
   "source": [
    "#### Fitted to the BLS result\n",
    "Folded with *correct trial period* and fit it with the BLS results."
   ]
  },
  {
   "cell_type": "code",
   "execution_count": null,
   "metadata": {},
   "outputs": [],
   "source": [
    "plt.plot(phase, y/ibi, 'r.')\n",
    "plt.title(\"Period: {0} d  bin: {1}\".format(1/f0, nbin))\n",
    "\n",
    "fite = np.zeros(nbin) + res[8] # H\n",
    "fite[res[1]:res[2]+1] = res[9] # L\n",
    "    \n",
    "plt.plot(phase, fite)\n",
    "plt.xlabel(r\"Phase ($\\phi$)\")\n",
    "plt.ylabel(r\"Mean value of $x(\\phi)$ in a bin\")"
   ]
  },
  {
   "cell_type": "markdown",
   "metadata": {},
   "source": [
    "#### Folded but unbinned\n",
    "\n",
    "What if the light curve is only folded not binned: more computation of SR"
   ]
  },
  {
   "cell_type": "code",
   "execution_count": null,
   "metadata": {},
   "outputs": [],
   "source": [
    "T0 = res[5]\n",
    "n = len(t)\n",
    "y = np.zeros(n)\n",
    "y = t % T0\n",
    "\n",
    "plt.plot(y, v, 'r.')\n",
    "plt.title(\"Period: {0} d\".format(1/f0))\n",
    "plt.xlabel(r\"Phase ($\\phi$)\")\n",
    "plt.ylabel(r\"Mean value of $x(\\phi)$ in a bin\")"
   ]
  },
  {
   "cell_type": "markdown",
   "metadata": {},
   "source": [
    "#### Folded with wrong trial period\n",
    "More scattered"
   ]
  },
  {
   "cell_type": "code",
   "execution_count": 5,
   "metadata": {},
   "outputs": [
    {
     "ename": "NameError",
     "evalue": "name 'nb' is not defined",
     "output_type": "error",
     "traceback": [
      "\u001b[1;31m---------------------------------------------------------------------------\u001b[0m",
      "\u001b[1;31mNameError\u001b[0m                                 Traceback (most recent call last)",
      "\u001b[1;32m<ipython-input-5-62ad6e54cd9b>\u001b[0m in \u001b[0;36m<module>\u001b[1;34m()\u001b[0m\n\u001b[0;32m      1\u001b[0m \u001b[0mf0\u001b[0m \u001b[1;33m=\u001b[0m \u001b[1;36m0.4\u001b[0m \u001b[1;31m#  freq = 1/T\u001b[0m\u001b[1;33m\u001b[0m\u001b[0m\n\u001b[1;32m----> 2\u001b[1;33m \u001b[0mnbin\u001b[0m \u001b[1;33m=\u001b[0m \u001b[0mnb\u001b[0m \u001b[1;31m# number of bin\u001b[0m\u001b[1;33m\u001b[0m\u001b[0m\n\u001b[0m\u001b[0;32m      3\u001b[0m \u001b[0mn\u001b[0m \u001b[1;33m=\u001b[0m \u001b[0mlen\u001b[0m\u001b[1;33m(\u001b[0m\u001b[0mt\u001b[0m\u001b[1;33m)\u001b[0m\u001b[1;33m\u001b[0m\u001b[0m\n\u001b[0;32m      4\u001b[0m \u001b[0mibi\u001b[0m \u001b[1;33m=\u001b[0m \u001b[0mnp\u001b[0m\u001b[1;33m.\u001b[0m\u001b[0mzeros\u001b[0m\u001b[1;33m(\u001b[0m\u001b[0mnbin\u001b[0m\u001b[1;33m)\u001b[0m\u001b[1;33m\u001b[0m\u001b[0m\n\u001b[0;32m      5\u001b[0m \u001b[0my\u001b[0m \u001b[1;33m=\u001b[0m \u001b[0mnp\u001b[0m\u001b[1;33m.\u001b[0m\u001b[0mzeros\u001b[0m\u001b[1;33m(\u001b[0m\u001b[0mnbin\u001b[0m\u001b[1;33m)\u001b[0m\u001b[1;33m\u001b[0m\u001b[0m\n",
      "\u001b[1;31mNameError\u001b[0m: name 'nb' is not defined"
     ]
    }
   ],
   "source": [
    "f0 = 0.4 #  freq = 1/T\n",
    "nbin = nb # number of bin\n",
    "n = len(t)\n",
    "ibi = np.zeros(nbin)\n",
    "y = np.zeros(nbin)\n",
    "phase = np.linspace(0.0, 1.0, nbin)\n",
    "\n",
    "for i in range(n):\n",
    "    ph = u[i]*f0 \n",
    "    ph = ph - int(ph)\n",
    "    j = int(nbin*ph) # data to a bin \n",
    "    ibi[j] = ibi[j] + 1.0 # number of data in a bin\n",
    "    y[j] = y[j] + v[i] # sum of light in a bin\n",
    "\n",
    "\n",
    "plt.plot(phase, y/ibi, 'r.')\n",
    "plt.title(\"Period: {0} d  bin: {1}\".format(1/f0, nbin))\n",
    "plt.xlabel(r\"Phase ($\\phi$)\")\n",
    "plt.ylabel(r\"Mean value of $x(\\phi)$ in a bin\")"
   ]
  },
  {
   "cell_type": "markdown",
   "metadata": {},
   "source": [
    "#### Folded with the *alias of trial period*\n",
    "\n",
    "Less scattered"
   ]
  },
  {
   "cell_type": "code",
   "execution_count": null,
   "metadata": {},
   "outputs": [],
   "source": [
    "f0 = 0.25 #  freq = 1/T\n",
    "nbin = nb # number of bin\n",
    "n = len(t)\n",
    "ibi = np.zeros(nbin)\n",
    "y = np.zeros(nbin)\n",
    "phase = np.linspace(0.0, 1.0, nbin)\n",
    "\n",
    "for i in range(n):\n",
    "    ph = u[i]*f0 \n",
    "    ph = ph - int(ph)\n",
    "    j = int(nbin*ph) # data to a bin \n",
    "    ibi[j] = ibi[j] + 1.0 # number of data in a bin\n",
    "    y[j] = y[j] + v[i] # sum of light in a bin\n",
    "\n",
    "\n",
    "plt.plot(phase, y/ibi, 'r.')\n",
    "plt.title(\"Period: {0} d  bin: {1}\".format(1/f0, nbin))\n",
    "plt.xlabel(r\"Phase ($\\phi$)\")\n",
    "plt.ylabel(r\"Mean value of $x(\\phi)$ in a bin\")"
   ]
  },
  {
   "cell_type": "code",
   "execution_count": null,
   "metadata": {},
   "outputs": [],
   "source": []
  },
  {
   "cell_type": "code",
   "execution_count": null,
   "metadata": {},
   "outputs": [],
   "source": []
  },
  {
   "cell_type": "code",
   "execution_count": null,
   "metadata": {},
   "outputs": [],
   "source": []
  }
 ],
 "metadata": {
  "kernelspec": {
   "display_name": "Python 2",
   "language": "python",
   "name": "python2"
  },
  "language_info": {
   "codemirror_mode": {
    "name": "ipython",
    "version": 2
   },
   "file_extension": ".py",
   "mimetype": "text/x-python",
   "name": "python",
   "nbconvert_exporter": "python",
   "pygments_lexer": "ipython2",
   "version": "2.7.14"
  }
 },
 "nbformat": 4,
 "nbformat_minor": 1
}
